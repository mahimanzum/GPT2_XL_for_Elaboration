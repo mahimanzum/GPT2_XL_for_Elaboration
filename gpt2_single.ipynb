{
 "cells": [
  {
   "cell_type": "code",
   "execution_count": null,
   "metadata": {},
   "outputs": [],
   "source": [
    "!pip install gpt2-client\n",
    "#env = conda_amazonei_tensorflow_p36"
   ]
  },
  {
   "cell_type": "code",
   "execution_count": null,
   "metadata": {},
   "outputs": [],
   "source": [
    "from gpt2_client import GPT2Client\n",
    "\n",
    "gpt2 = GPT2Client('1558M') # This could also be `345M`, `774M`, or `1558M`. Rename `save_dir` to anything.\n",
    "gpt2.load_model(force_download=False) # Use cached versions if available."
   ]
  },
  {
   "cell_type": "code",
   "execution_count": null,
   "metadata": {},
   "outputs": [],
   "source": [
    "gpt2.generate(interactive=True) # Asks user for prompt\n"
   ]
  },
  {
   "cell_type": "code",
   "execution_count": null,
   "metadata": {},
   "outputs": [],
   "source": [
    "gpt2.generate(n_samples=4) # Generates 4 pieces of text\n",
    "text = gpt2.generate(return_text=True) # Generates text and returns it in an array\n",
    "gpt2.generate(interactive=True, n_samples=3) # A different prompt each time"
   ]
  },
  {
   "cell_type": "code",
   "execution_count": null,
   "metadata": {},
   "outputs": [],
   "source": [
    "my_corpus = 'shakespeare.txt' # path to corpus\n",
    "custom_text = gpt2.finetune(my_corpus, return_text=True) # Load your custom dataset"
   ]
  },
  {
   "cell_type": "code",
   "execution_count": null,
   "metadata": {},
   "outputs": [],
   "source": [
    "!nvidia-smi\n",
    "import tensorflow as tf\n",
    "print(tf.__version__)"
   ]
  },
  {
   "cell_type": "code",
   "execution_count": null,
   "metadata": {},
   "outputs": [],
   "source": [
    "from tensorflow.python.client import device_lib\n",
    "print(device_lib.list_local_devices())"
   ]
  },
  {
   "cell_type": "code",
   "execution_count": null,
   "metadata": {},
   "outputs": [],
   "source": [
    "print(device_lib.list_local_devices())"
   ]
  },
  {
   "cell_type": "code",
   "execution_count": null,
   "metadata": {},
   "outputs": [],
   "source": [
    "!pip install tensorflow-gpu==1.15.2"
   ]
  },
  {
   "cell_type": "code",
   "execution_count": null,
   "metadata": {},
   "outputs": [],
   "source": [
    "!cp -r /root/.keras/datasets/shakespeare.txt ."
   ]
  },
  {
   "cell_type": "code",
   "execution_count": null,
   "metadata": {},
   "outputs": [],
   "source": [
    "!sudo yum install p7zip-full"
   ]
  },
  {
   "cell_type": "code",
   "execution_count": null,
   "metadata": {},
   "outputs": [],
   "source": [
    "#!ls\n",
    "!sudo 7z x ggw_train_gpt2_whole_after55k.7z\n",
    "!ls"
   ]
  },
  {
   "cell_type": "code",
   "execution_count": null,
   "metadata": {},
   "outputs": [],
   "source": [
    "import tensorflow as tf\n",
    "print(tf.__version__)"
   ]
  },
  {
   "cell_type": "code",
   "execution_count": null,
   "metadata": {},
   "outputs": [],
   "source": [
    "!nvidia-smi"
   ]
  },
  {
   "cell_type": "code",
   "execution_count": null,
   "metadata": {},
   "outputs": [],
   "source": [
    "!pip install gpt-2-simple"
   ]
  },
  {
   "cell_type": "code",
   "execution_count": null,
   "metadata": {},
   "outputs": [],
   "source": [
    "import gpt_2_simple as gpt2\n",
    "import os\n",
    "import requests\n",
    "\n",
    "model_name = \"1558M\"\n",
    "if not os.path.isdir(os.path.join(\"models\", model_name)):\n",
    "    print(f\"Downloading {model_name} model...\")\n",
    "    gpt2.download_gpt2(model_name=model_name)   # model is saved into current directory under /models/124M/"
   ]
  },
  {
   "cell_type": "code",
   "execution_count": null,
   "metadata": {
    "scrolled": true
   },
   "outputs": [],
   "source": [
    "import gpt_2_simple as gpt2\n",
    "import tensorflow as tf\n",
    "file_name = \"all_ggw.txt\"\n",
    "sess = gpt2.start_tf_sess()\n",
    "#reuse=tf.AUTO_REUSE\n",
    "gpt2.finetune(sess,\n",
    "              dataset=file_name,\n",
    "              model_name='1558M',\n",
    "              steps=30000,\n",
    "              run_name='all_ggw_final',\n",
    "              print_every=10,\n",
    "              sample_every=20000000,\n",
    "              save_every=50, \n",
    "              multi_gpu=True, \n",
    "              batch_size=16, #16 works best till now\n",
    "              overwrite=True, \n",
    "              restore_from='checkpoint/ggw_whole_data_except_55k'\n",
    "              )\n",
    "\n",
    "\n",
    "#restore_from='checkpoint/run1',\n",
    "    "
   ]
  },
  {
   "cell_type": "code",
   "execution_count": null,
   "metadata": {},
   "outputs": [],
   "source": [
    "import gpt_2_simple as gpt2\n",
    "import tensorflow as tf\n",
    "sess = gpt2.start_tf_sess()\n",
    "reuse=True\n",
    "gpt2.load_gpt2(sess,\n",
    "               multi_gpu=True, \n",
    "              run_name = \"ggw_whole_data_except_55k\")\n",
    "\n",
    "gpt2.generate(sess,\n",
    "            nsamples=16,\n",
    "            batch_size=16,\n",
    "            length=150,\n",
    "            temperature=0.7,\n",
    "            truncate= \"\\n\",#<|endoftext|>\n",
    "            prefix = \"iraq claims to have downed u.s. spy drone america admits unmanned << \"\n",
    "            )\n",
    "'''\n",
    "iraq claims to have downed u.s. spy drone america admits unmanned << iraq shot down an unmanned u.s. spy plane over its southern provinces wednesday , the state-run iraqi news agency reported .\n",
    "'''\n",
    "#gpt2.generate(sess,\n",
    "#              prefix = \"three french men jailed for beating torturing homeless man to death << \"\n",
    "#             )\n",
    "              #model_name='1558M',\n",
    "              #run_name = \"ggw_55k\")"
   ]
  },
  {
   "cell_type": "code",
   "execution_count": 1,
   "metadata": {},
   "outputs": [
    {
     "name": "stderr",
     "output_type": "stream",
     "text": [
      "100%|██████████| 54999/54999 [00:00<00:00, 919445.84it/s]\n",
      "100%|██████████| 3748957/3748957 [00:02<00:00, 1673446.65it/s]\n"
     ]
    }
   ],
   "source": [
    "#!ls\n",
    "all_data = []\n",
    "from tqdm import tqdm\n",
    "import random\n",
    "files = ['ggw_train_gpt2.txt', 'ggw_train_gpt2_whole_after55k.txt']\n",
    "for f in files:\n",
    "    lines = open(f, 'r',  encoding='utf-8').readlines()\n",
    "    for l in tqdm(lines):\n",
    "        all_data.append(l)\n",
    "        #print(l)\n",
    "random.shuffle(all_data)\n",
    "f = open(\"all_ggw.txt\", 'w', encoding='utf-8')\n",
    "f.write(\"\".join(all_data))\n",
    "f.close()"
   ]
  },
  {
   "cell_type": "code",
   "execution_count": null,
   "metadata": {},
   "outputs": [],
   "source": [
    "after 200 steps on 55k\n",
    "\n",
    "example 1\n",
    "three french men jailed for beating torturing homeless man to death << eraland police have jailed two men for up to ## years for their part in the torture of a ##-year-old man whose remains were found in a suitcase in a public street in #### .\n",
    "spain to throw out eu competition law suit over swedish meat ban << spain is to launch legal action to overturn a european union competition ruling that it must throw out a legal complaint over the swedish ban on pork products , its agriculture ministry said friday .\n",
    "spain to throw out eu complaint over swedish meat ban << spain is to launch legal action to overturn a european union competition ruling that it must throw out a legal complaint over the swedish ban on pork products , its agriculture ministry said friday .\n",
    "police arrest ## for looting in portugal 's portuguese island of grausac << portuguese police arrested ## people for looting the country 's main hospital and the local post office in the portuguese province of grausac on friday , a spokeswoman said .\n",
    "schumacher wins second world race << formula one driver michael schumacher of france won the second race of the rally of great britain here on friday when he took the lead after the second stage .\n",
    "us warns americans coming to us to exercise caution << the united states friday warned americans planning to visit the united states that the country is a potential target for terrorist attacks , a day after a botched air friday attempted to land at london 's heathrow airport .\n",
    "<unk> wins rally of great britain << french rally leader pierre <unk> of the <unk> won the rally of great britain here friday after the second stage .\n",
    "us vice president pays tribute to victims of israeli attacks << us vice president dick cheney on friday paid tribute to those who lost their lives in recent israeli military operations in northern israel and the palestinian territories , and warned of further attacks to come .\n",
    "johns keeps wales title hopes alive with win in world match play << mark johns sparked wales on friday to their first ever win over england in their world cup qualifier with a final-set victory in a battle of two of europe 's greatest hope .\n",
    "us vice president to visit israel 's self-rule areas next week << us vice president dick cheney is due in israel on thursday for talks with prime minister ariel sharon and the palestinians , the state department said friday .\n",
    "saudi fm warns israel to end siege of lebanese border town << saudi foreign minister prince saud al-faisal warned israel friday that its nine-day siege of the lebanese town of march ## could not last forever and urged the jewish state to end the siege `` in the shortest time possible .\n",
    "us vice president to visit israel 's self-rule areas next week << us vice president dick cheney is due in israel on thursday for talks with prime minister ariel sharon and the palestinians , the state department said friday .\n",
    "us vice president to visit israel 's self-rule areas next week << us vice president dick cheney is due in israel on thursday for talks with prime minister ariel sharon and the palestinians , the state department said friday .\n",
    "spain to throw out eu competition law suit over swedish meat ban << spain is to launch legal action to overturn a european union competition ruling that it must throw out a legal complaint over the swedish ban on pork products , its agriculture ministry said friday .\n",
    "clinton 's cabinet picks for bosnia, yugoslavia << president bill clinton 's cabinet on friday named four people to the key posts in bosnia and yugoslavia , the presidents of the balkan countries and serbia , and a former us senator , to serve for the next six years .\n",
    "russian fm wants end to arms race in middle east << russian foreign minister sergey <unk> said friday that moscow hopes the middle east arms race will be brought to an end , russian news agencies reported .\n",
    "stocks mixed at wall street opening << stocks were mixed in new york friday , with the dow industrials up ##.## points -lrb- #.## percent -rrb- to ##,###.## and the nasdaq dropping ##.## points -lrb- #.## percent -rrb- to #,###.## in the first trades .\n",
    "prime minister defends pact with spanish pm << prime minister vinicio correa defended friday the key alliance pact with spain , which has seen the spanish-speaking administration of prime minister felipe gonzalez put forward as a candidate for\n",
    "\n",
    "\n",
    "example 2\n",
    "un sees no end to impasse over western sahara << iaea chief mohamed sahir mohammed taha said friday he was pessimistic about finding a solution to the decades-old dispute over the western sahara , where yugoslav forces are accused of thousands of abuses against local populations .\n",
    "israeli minister blasts syria over lebanon << prime minister tzipi livni on friday blasted syria for its failure to help put an end to israel 's offensive on lebanon , saying syria was doing nothing to stop weapons flowing from israel to the palestinians .\n",
    "bush urges world to work together to end mideast crisis << us president george w. bush on friday urged the world to work together to end the conflict between israel and hezbollah in lebanon .\n",
    "israeli soldier killed in bethlehem church shootout << an israeli soldier was killed and two others were wounded friday in a shootout with hezbollah gunmen in the northern west bank town of bethlehem , an afp correspondent reported .\n",
    "nigerian police arrest five over suicide bombing plot << nigerian police have arrested five people in connection with a suicide bombing plot to kill ## people in a church in lagos , southern nigeria , a police source said friday .\n",
    "british pm visits syria for talks with assad << british prime minister tony blair arrived in syria friday for a meeting with president hafez al-assad to discuss ways in which beirut and lebanon can be stabilized .\n",
    "armed men seize nigerian oil platforms << armed men have seized four nigerian oil platforms and driven away hundreds of workers in the latest attack on the industry in one of the world 's most oil-rich countries , officials said friday .\n",
    "two men killed in agate robbery << two men were killed and a woman and her son arrested after two armed robbers in southern france tried to stealing a million-dollar painting by french artist carole besson , police said friday .\n",
    "khatami arrives in south africa << iranian president mohammad khatami arrived in south africa friday for a ##-hour visit due to mark the ##th anniversary of the establishment of diplomatic ties between the two countries .\n",
    "unions call strike in the cyprus port city of limassol << port workers in the cyprus city of limassol began a ##-hour strike friday to press demands for more pay and better working conditions , the union said .\n",
    "iraq seeks to arrest islamic jihad leader on friday << iraqi police said on friday they had arrested an islamic jihad member suspected of involvement in the murder of a prominent shiite muslim cleric .\n",
    "bush says syria to do more to stop weapons flowing to lebanon << us president george w. bush said friday that syria has a responsibility to do more to stem the flow of weapons to lebanon , as he expressed concern that syria 's refusal to do so may hamper the chances of a positive resolution to the crisis .\n",
    "seven injured in egyptian police attack << seven people , including four policemen , were injured in a clash with islamic jihad supporters in the northeastern city of sinai on friday , an interior ministry spokesman said .\n",
    "injured zimbabwe opposition leader released from hospital << zimbabwe 's opposition movement for democratic change -lrb- mdc -rrb- said friday that jailed opposition leader morgan tsvangirai had been released from hospital after a two-week stay in an alcohol rehabilitation center .\n",
    "pakistan worried about indian fm 's jibe in pakistan << pakistan 's foreign minister said friday he was concerned about indian foreign minister jaswant singh 's remarks that pakistan 's presence in neighboring afghanistan threatened peace in the region .\n",
    "senate confirms us intelligence on sarin gas << the senate on friday confirmed for the first time that the united states believes sarin gas was used in a chemical attack in the east #### which killed thousands in the united states .\n",
    "injured zimbabwe opposition leader released from hospital << zimbabwe 's opposition movement for democratic change -lrb- mdc -rrb- said friday that jailed opposition leader morgan tsvangirai had been released from hospital after a two-week stay in an alcohol rehabilitation center .\n",
    "greek defense minister visits israel on un peace mission << greek defense minister gyorgy papandreou arrived in israel friday to discuss the mideast crisis with his israeli counterpart , who is leading a un peace mission , officials said .\n",
    "dutch court acquits suspected algerian hijack master << an algerian man accused of hijacking a dutch airliner and forcing it to fly to france and after several"
   ]
  },
  {
   "cell_type": "code",
   "execution_count": null,
   "metadata": {},
   "outputs": [],
   "source": [
    "after 1700 steps on 55k data\n",
    "un sees no end to impasse over western sahara << igor ivanov , vice-president of the russian federation , said monday there was no end to the impasse between russia and morocco over the western sahara , where moscow and buenos aires are vying for control .\n",
    "\n",
    "iraq claims to have downed u.s. spy drone america admits unmanned << iaea officials on wednesday said they had opened a preliminary inquiry into claims that iraq had shot down a us surveillance drone in the region of al-anbar in neighboring iraq .\n",
    "actual\n",
    "iraq claims to have downed u.s. spy drone america admits unmanned << iraq shot down an unmanned u.s. spy plane over its southern provinces wednesday , the state-run iraqi news agency reported .\n",
    "\n",
    "after 1500 steps\n",
    "iraq claims to have downed u.s. spy drone america admits unmanned << izmir , spain -lrb- ap -rrb- _ a suspected u.s. spy plane shot down over the mediterranean sea , the first time iraq has claimed responsibility for a u.s. attack , caused the deaths of seven spanish fishermen , and iraqi officials said friday that it was a u.s. drone they claimed shelled their shore .\n"
   ]
  },
  {
   "cell_type": "code",
   "execution_count": null,
   "metadata": {},
   "outputs": [],
   "source": [
    "iraq claims to have downed u.s. spy drone america admits unmanned << ikramuddin , iraq 's foreign minister , claimed saturday to have downed the u.s. spy plane that carried u.s. air force f-## fighters over iraq , while the american military acknowledged that the plane passed over iraq , but said the u.s. pilots may have gotten lost .\n",
    "====================\n",
    "iraq claims to have downed u.s. spy drone america admits unmanned << icky <unk> , the top iraqi spy in charge of u.s. operations in iraq , acknowledged monday that iraq has a small drone force operating in the country .\n",
    "====================\n",
    "iraq claims to have downed u.s. spy drone america admits unmanned << ilex has downed a u.s. spy plane and america has given up on its unmanned predator aircraft , iraq 's foreign minister said on thursday .\n",
    "====================\n",
    "iraq claims to have downed u.s. spy drone america admits unmanned << ernesto enrique guillen , the leader of the armed city of kirkuk , said sunday that iraqi forces downed a u.s. spy plane in the arab province and destroyed another early sunday , according to a report by the country 's official news agency .\n",
    "====================\n",
    "iraq claims to have downed u.s. spy drone america admits unmanned << iaea inspectors on tuesday said two unmanned u.s. spy planes were downed over iraq , and american officials conceded for the first time that they had indeed carried out an attack on an iraqi radar installation , the u.s. fourth largest intelligence organization .\n",
    "====================\n",
    "iraq claims to have downed u.s. spy drone america admits unmanned << igor <unk> thought his family was safe in the mountains of kosovo , but last year 's air raid in afghanistan did n't give him cause to pause .\n",
    "====================\n",
    "iraq claims to have downed u.s. spy drone america admits unmanned << izetbegovic claims iraq has downed a u.s. spy drone over northern iraq , and the american ambassador in belgrade on saturday strongly denied that islamic fundamentalists were responsible for the crash .\n",
    "====================\n",
    "iraq claims to have downed u.s. spy drone america admits unmanned << ivan gordeev of russia claimed thursday to have shot down an unmanned reconnaissance aircraft belonging to the united states , drawing american officials to the conclusion that he had simply mistaken it for a u.s. spy plane .\n",
    "====================\n",
    "iraq claims to have downed u.s. spy drone america admits unmanned << ichiro ozawa , iraq 's most celebrated actor , said wednesday he was not a member of saddam hussein 's regime and denied having been Saddam 's henchman .\n",
    "====================\n",
    "iraq claims to have downed u.s. spy drone america admits unmanned << ursula <unk> , a woman with a white head and black eyes , is the most wanted woman in iraq .\n",
    "====================\n",
    "iraq claims to have downed u.s. spy drone america admits unmanned << izmir , turkey -lrb- ap -rrb- - the chief of staff of turkey 's air force said on friday that the country 's warplanes have shot down an unmanned u.s. spy aircraft in the eastern aegean sea and killed two u.s. pilots .\n",
    "====================\n",
    "iraq claims to have downed u.s. spy drone america admits unmanned << ernesto <unk> , the suspected mastermind of the #### bombing of the uss cole , escaped a titanic prison cell tuesday and went on a flight to the united states .\n",
    "====================\n",
    "iraq claims to have downed u.s. spy drone america admits unmanned << ernesto <unk> , a u.s. government helicopter pilot , was shot down over southern iraq last month , the iraqi army claimed wednesday , with u.s. officials confirming that the pilot 's plane was an unmanned spy aircraft .\n",
    "====================\n",
    "iraq claims to have downed u.s. spy drone america admits unmanned << iaea inspectors have found no conclusive evidence that iraq has produced an unmanned spy plane , u.s. officials said on monday , as u.s. officials and iraqi officials sought to reassure the international community .\n",
    "====================\n",
    "iraq claims to have downed u.s. spy drone america admits unmanned << ikramuddin , the chief of command for the u.s. military in iraq , says that u.s. spy planes are not flying over northern iraq .\n",
    "====================\n",
    "iraq claims to have downed u.s. spy drone america admits unmanned << ibras air defense forces on thursday claimed to have shot down an unmanned u.s. spy plane in northern iraq and captured its pilot , the american military said"
   ]
  },
  {
   "cell_type": "code",
   "execution_count": 4,
   "metadata": {},
   "outputs": [
    {
     "name": "stdout",
     "output_type": "stream",
     "text": [
      "Wed Aug 12 16:18:03 2020       \n",
      "+-----------------------------------------------------------------------------+\n",
      "| NVIDIA-SMI 440.33.01    Driver Version: 440.33.01    CUDA Version: 10.2     |\n",
      "|-------------------------------+----------------------+----------------------+\n",
      "| GPU  Name        Persistence-M| Bus-Id        Disp.A | Volatile Uncorr. ECC |\n",
      "| Fan  Temp  Perf  Pwr:Usage/Cap|         Memory-Usage | GPU-Util  Compute M. |\n",
      "|===============================+======================+======================|\n",
      "|   0  Tesla V100-SXM2...  On   | 00000000:00:17.0 Off |                    0 |\n",
      "| N/A   67C    P0    92W / 300W |  15611MiB / 16160MiB |     42%      Default |\n",
      "+-------------------------------+----------------------+----------------------+\n",
      "|   1  Tesla V100-SXM2...  On   | 00000000:00:18.0 Off |                    0 |\n",
      "| N/A   51C    P0    60W / 300W |  15611MiB / 16160MiB |      0%      Default |\n",
      "+-------------------------------+----------------------+----------------------+\n",
      "|   2  Tesla V100-SXM2...  On   | 00000000:00:19.0 Off |                    0 |\n",
      "| N/A   51C    P0    77W / 300W |  15611MiB / 16160MiB |    100%      Default |\n",
      "+-------------------------------+----------------------+----------------------+\n",
      "|   3  Tesla V100-SXM2...  On   | 00000000:00:1A.0 Off |                    0 |\n",
      "| N/A   56C    P0    71W / 300W |  15611MiB / 16160MiB |      0%      Default |\n",
      "+-------------------------------+----------------------+----------------------+\n",
      "|   4  Tesla V100-SXM2...  On   | 00000000:00:1B.0 Off |                    0 |\n",
      "| N/A   53C    P0    61W / 300W |  15611MiB / 16160MiB |      0%      Default |\n",
      "+-------------------------------+----------------------+----------------------+\n",
      "|   5  Tesla V100-SXM2...  On   | 00000000:00:1C.0 Off |                    0 |\n",
      "| N/A   52C    P0    64W / 300W |   8753MiB / 16160MiB |      0%      Default |\n",
      "+-------------------------------+----------------------+----------------------+\n",
      "|   6  Tesla V100-SXM2...  On   | 00000000:00:1D.0 Off |                    0 |\n",
      "| N/A   50C    P0    77W / 300W |   8753MiB / 16160MiB |      0%      Default |\n",
      "+-------------------------------+----------------------+----------------------+\n",
      "|   7  Tesla V100-SXM2...  On   | 00000000:00:1E.0 Off |                    0 |\n",
      "| N/A   54C    P0    77W / 300W |   8753MiB / 16160MiB |      0%      Default |\n",
      "+-------------------------------+----------------------+----------------------+\n",
      "                                                                               \n",
      "+-----------------------------------------------------------------------------+\n",
      "| Processes:                                                       GPU Memory |\n",
      "|  GPU       PID   Type   Process name                             Usage      |\n",
      "|=============================================================================|\n",
      "|    0     13073      C   python                                     15583MiB |\n",
      "|    1     13073      C   python                                     15583MiB |\n",
      "|    2     13073      C   python                                     15583MiB |\n",
      "|    3     13073      C   python                                     15583MiB |\n",
      "|    4     13073      C   python                                     15583MiB |\n",
      "|    5     13073      C   python                                      8725MiB |\n",
      "|    6     13073      C   python                                      8725MiB |\n",
      "|    7     13073      C   python                                      8725MiB |\n",
      "+-----------------------------------------------------------------------------+\n"
     ]
    }
   ],
   "source": [
    "!nvidia-smi"
   ]
  },
  {
   "cell_type": "code",
   "execution_count": null,
   "metadata": {},
   "outputs": [],
   "source": []
  }
 ],
 "metadata": {
  "kernelspec": {
   "display_name": "conda_amazonei_tensorflow_p36",
   "language": "python",
   "name": "conda_amazonei_tensorflow_p36"
  },
  "language_info": {
   "codemirror_mode": {
    "name": "ipython",
    "version": 3
   },
   "file_extension": ".py",
   "mimetype": "text/x-python",
   "name": "python",
   "nbconvert_exporter": "python",
   "pygments_lexer": "ipython3",
   "version": "3.6.10"
  }
 },
 "nbformat": 4,
 "nbformat_minor": 4
}
